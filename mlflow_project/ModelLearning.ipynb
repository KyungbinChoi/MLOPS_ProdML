{
 "cells": [
  {
   "cell_type": "code",
   "execution_count": 1,
   "metadata": {},
   "outputs": [
    {
     "data": {
      "text/html": [
       "<div>\n",
       "<style scoped>\n",
       "    .dataframe tbody tr th:only-of-type {\n",
       "        vertical-align: middle;\n",
       "    }\n",
       "\n",
       "    .dataframe tbody tr th {\n",
       "        vertical-align: top;\n",
       "    }\n",
       "\n",
       "    .dataframe thead th {\n",
       "        text-align: right;\n",
       "    }\n",
       "</style>\n",
       "<table border=\"1\" class=\"dataframe\">\n",
       "  <thead>\n",
       "    <tr style=\"text-align: right;\">\n",
       "      <th></th>\n",
       "      <th>Age</th>\n",
       "      <th>SibSp</th>\n",
       "      <th>Parch</th>\n",
       "      <th>Fare</th>\n",
       "      <th>Pclass_1</th>\n",
       "      <th>Pclass_2</th>\n",
       "      <th>Pclass_3</th>\n",
       "      <th>Sex_female</th>\n",
       "      <th>Sex_male</th>\n",
       "      <th>Embarked_C</th>\n",
       "      <th>Embarked_N</th>\n",
       "      <th>Embarked_Q</th>\n",
       "      <th>Embarked_S</th>\n",
       "      <th>Survived</th>\n",
       "    </tr>\n",
       "  </thead>\n",
       "  <tbody>\n",
       "    <tr>\n",
       "      <th>0</th>\n",
       "      <td>0.271174</td>\n",
       "      <td>0.125</td>\n",
       "      <td>0.0</td>\n",
       "      <td>0.014151</td>\n",
       "      <td>False</td>\n",
       "      <td>False</td>\n",
       "      <td>True</td>\n",
       "      <td>False</td>\n",
       "      <td>True</td>\n",
       "      <td>False</td>\n",
       "      <td>False</td>\n",
       "      <td>False</td>\n",
       "      <td>True</td>\n",
       "      <td>0</td>\n",
       "    </tr>\n",
       "    <tr>\n",
       "      <th>1</th>\n",
       "      <td>0.472229</td>\n",
       "      <td>0.125</td>\n",
       "      <td>0.0</td>\n",
       "      <td>0.139136</td>\n",
       "      <td>True</td>\n",
       "      <td>False</td>\n",
       "      <td>False</td>\n",
       "      <td>True</td>\n",
       "      <td>False</td>\n",
       "      <td>True</td>\n",
       "      <td>False</td>\n",
       "      <td>False</td>\n",
       "      <td>False</td>\n",
       "      <td>1</td>\n",
       "    </tr>\n",
       "    <tr>\n",
       "      <th>2</th>\n",
       "      <td>0.321438</td>\n",
       "      <td>0.000</td>\n",
       "      <td>0.0</td>\n",
       "      <td>0.015469</td>\n",
       "      <td>False</td>\n",
       "      <td>False</td>\n",
       "      <td>True</td>\n",
       "      <td>True</td>\n",
       "      <td>False</td>\n",
       "      <td>False</td>\n",
       "      <td>False</td>\n",
       "      <td>False</td>\n",
       "      <td>True</td>\n",
       "      <td>1</td>\n",
       "    </tr>\n",
       "    <tr>\n",
       "      <th>3</th>\n",
       "      <td>0.434531</td>\n",
       "      <td>0.125</td>\n",
       "      <td>0.0</td>\n",
       "      <td>0.103644</td>\n",
       "      <td>True</td>\n",
       "      <td>False</td>\n",
       "      <td>False</td>\n",
       "      <td>True</td>\n",
       "      <td>False</td>\n",
       "      <td>False</td>\n",
       "      <td>False</td>\n",
       "      <td>False</td>\n",
       "      <td>True</td>\n",
       "      <td>1</td>\n",
       "    </tr>\n",
       "    <tr>\n",
       "      <th>4</th>\n",
       "      <td>0.434531</td>\n",
       "      <td>0.000</td>\n",
       "      <td>0.0</td>\n",
       "      <td>0.015713</td>\n",
       "      <td>False</td>\n",
       "      <td>False</td>\n",
       "      <td>True</td>\n",
       "      <td>False</td>\n",
       "      <td>True</td>\n",
       "      <td>False</td>\n",
       "      <td>False</td>\n",
       "      <td>False</td>\n",
       "      <td>True</td>\n",
       "      <td>0</td>\n",
       "    </tr>\n",
       "  </tbody>\n",
       "</table>\n",
       "</div>"
      ],
      "text/plain": [
       "        Age  SibSp  Parch      Fare  Pclass_1  Pclass_2  Pclass_3  Sex_female  \\\n",
       "0  0.271174  0.125    0.0  0.014151     False     False      True       False   \n",
       "1  0.472229  0.125    0.0  0.139136      True     False     False        True   \n",
       "2  0.321438  0.000    0.0  0.015469     False     False      True        True   \n",
       "3  0.434531  0.125    0.0  0.103644      True     False     False        True   \n",
       "4  0.434531  0.000    0.0  0.015713     False     False      True       False   \n",
       "\n",
       "   Sex_male  Embarked_C  Embarked_N  Embarked_Q  Embarked_S  Survived  \n",
       "0      True       False       False       False        True         0  \n",
       "1     False        True       False       False       False         1  \n",
       "2     False       False       False       False        True         1  \n",
       "3     False       False       False       False        True         1  \n",
       "4      True       False       False       False        True         0  "
      ]
     },
     "execution_count": 1,
     "metadata": {},
     "output_type": "execute_result"
    }
   ],
   "source": [
    "import pandas as pd\n",
    "from sklearn.ensemble import RandomForestClassifier\n",
    "from sklearn.model_selection import train_test_split\n",
    "from sklearn.metrics import accuracy_score\n",
    "from sklearn.metrics import precision_recall_fscore_support\n",
    "\n",
    "%matplotlib inline\n",
    "\n",
    "df = pd.read_csv('dataset_preprocessing.csv', index_col=0)\n",
    "df.head()"
   ]
  },
  {
   "cell_type": "code",
   "execution_count": 2,
   "metadata": {},
   "outputs": [],
   "source": [
    "label = df[\"Survived\"]\n",
    "df = df.drop([\"Survived\"], axis=1)"
   ]
  },
  {
   "cell_type": "code",
   "execution_count": 3,
   "metadata": {},
   "outputs": [],
   "source": [
    "X_train, X_test, y_train, y_test = train_test_split(df, label, test_size=0.25, random_state=1234)"
   ]
  },
  {
   "attachments": {},
   "cell_type": "markdown",
   "metadata": {},
   "source": [
    "### 0. 일반적인 모델 학습"
   ]
  },
  {
   "cell_type": "code",
   "execution_count": 4,
   "metadata": {},
   "outputs": [],
   "source": [
    "# 모델 초기화\n",
    "n_estimator = 300\n",
    "random_state = 1234\n",
    "\n",
    "model = RandomForestClassifier(n_estimators=n_estimator, random_state=random_state)\n",
    "# 모델 학습\n",
    "model.fit(X_train, y_train)\n",
    "# 테스트 데이터에 대한 예측\n",
    "y_pred = model.predict(X_test)\n",
    "# 정확도 계산\n",
    "accuracy = accuracy_score(y_test, y_pred)\n",
    "prf = precision_recall_fscore_support(y_test, y_pred, average='binary')"
   ]
  },
  {
   "cell_type": "code",
   "execution_count": 5,
   "metadata": {},
   "outputs": [
    {
     "data": {
      "text/plain": [
       "0.8116591928251121"
      ]
     },
     "execution_count": 5,
     "metadata": {},
     "output_type": "execute_result"
    }
   ],
   "source": [
    "# 정확도 출력\n",
    "accuracy"
   ]
  },
  {
   "cell_type": "code",
   "execution_count": 6,
   "metadata": {},
   "outputs": [
    {
     "data": {
      "text/plain": [
       "(0.788235294117647, 0.7362637362637363, 0.7613636363636364, None)"
      ]
     },
     "execution_count": 6,
     "metadata": {},
     "output_type": "execute_result"
    }
   ],
   "source": [
    "prf"
   ]
  },
  {
   "attachments": {},
   "cell_type": "markdown",
   "metadata": {},
   "source": [
    "### 1. MLflow를 활용한 모델 학습 Tracking\n",
    "* custom logging (직접 로깅) 을 통한 모델 학습 기록 관리\n",
    "* auto logging을 활용한 모델 학습 기록 관리\n",
    "* auto loggine + custom logging"
   ]
  },
  {
   "attachments": {},
   "cell_type": "markdown",
   "metadata": {},
   "source": [
    "##### 1) Custom logging(직접 로깅)을 통한 모델 학습 기록 관리"
   ]
  },
  {
   "cell_type": "code",
   "execution_count": 7,
   "metadata": {},
   "outputs": [],
   "source": [
    "import mlflow\n",
    "\n",
    "'''\n",
    "\tTo do\n",
    "    tracking uri를 셋팅하기 -> local host로 진행 \n",
    "    experiment 생성하기 -> hellomlflow!\n",
    "    experiment 셋팅하기 -> hellomlflow!\n",
    "'''\n",
    "mlflow.set_tracking_uri('http://127.0.0.1:5000')\n",
    "# mlflow.create_experiment('hello_mlflow')"
   ]
  },
  {
   "cell_type": "code",
   "execution_count": 10,
   "metadata": {},
   "outputs": [
    {
     "data": {
      "text/plain": [
       "<Experiment: artifact_location='mlflow-artifacts:/397909761359334731', creation_time=1723429343558, experiment_id='397909761359334731', last_update_time=1723429343558, lifecycle_stage='active', name='hello_mlflow', tags={}>"
      ]
     },
     "execution_count": 10,
     "metadata": {},
     "output_type": "execute_result"
    }
   ],
   "source": [
    "# To do\n",
    "# set experiment \n",
    "mlflow.set_experiment('hello_mlflow')"
   ]
  },
  {
   "cell_type": "code",
   "execution_count": 9,
   "metadata": {},
   "outputs": [
    {
     "name": "stderr",
     "output_type": "stream",
     "text": [
      "2024/08/12 11:46:23 WARNING mlflow.models.model: Input example should be provided to infer model signature if the model signature is not provided when logging the model.\n",
      "2024/08/12 11:46:23 INFO mlflow.tracking._tracking_service.client: 🏃 View run gifted-auk-659 at: http://127.0.0.1:5000/#/experiments/397909761359334731/runs/a78e7d57a53e467bb53ca319be3aed99.\n",
      "2024/08/12 11:46:23 INFO mlflow.tracking._tracking_service.client: 🧪 View experiment at: http://127.0.0.1:5000/#/experiments/397909761359334731.\n"
     ]
    }
   ],
   "source": [
    "'''\n",
    "\tTo do\n",
    "\tmlflow 활용해서 Custom Logging을 진행 \n",
    "    아래 함수를 이용해 logging을 진행\n",
    "\t\t1) mlflow.log_param()\n",
    "\t\t\tn_estimator\n",
    "\t\t2) mlflow.log_model()\n",
    "\t\t\tsave model\n",
    "    \t3) mlflow.log_metric()\n",
    "\t\t\tmetric -> accuracy, precision, recall, f1score\n",
    "\n",
    "'''\n",
    "n_estimator = 80\n",
    "random_state = 123\n",
    "\n",
    "with mlflow.start_run():\n",
    "\n",
    "\tmodel = RandomForestClassifier(n_estimators=n_estimator, random_state= random_state)\n",
    "\tmodel.fit(X_train, y_train)\n",
    "\ty_pred = model.predict(X_test)\n",
    "\taccuracy = accuracy_score(y_test,y_pred)\n",
    "\tprf = precision_recall_fscore_support(y_test, y_pred, average='binary')\n",
    "\n",
    "\tmlflow.log_param('n_estimator',n_estimator)\n",
    "\tmlflow.log_metric('accuracy_on_test',accuracy)\n",
    "\tmlflow.log_metric('precision_on_test', prf[0])\n",
    "\tmlflow.log_metric('recall_on_test',prf[1])\n",
    "\tmlflow.log_metric('f1score_on_test', prf[2])\n",
    "\tmlflow.sklearn.log_model(model, \"model\")"
   ]
  },
  {
   "attachments": {},
   "cell_type": "markdown",
   "metadata": {},
   "source": [
    "##### 2) auto logging을 활용한 모델 학습 기록 관리"
   ]
  },
  {
   "cell_type": "code",
   "execution_count": 11,
   "metadata": {},
   "outputs": [],
   "source": [
    "# Mlflow Sklearn을 활용해서 모델 및 메트릭 자동 기록! \n",
    "'''\n",
    "\tTo do \n",
    "\tuse autolog() on mlflow \n",
    "'''\n",
    "\n",
    "mlflow.sklearn.autolog()"
   ]
  },
  {
   "cell_type": "code",
   "execution_count": 12,
   "metadata": {},
   "outputs": [
    {
     "name": "stderr",
     "output_type": "stream",
     "text": [
      "2024/08/12 11:51:06 INFO mlflow.utils.autologging_utils: Created MLflow autologging run with ID '1a22abccf3de4df5b2231f9194898a4b', which will track hyperparameters, performance metrics, model artifacts, and lineage information for the current sklearn workflow\n",
      "2024/08/12 11:51:09 INFO mlflow.tracking._tracking_service.client: 🏃 View run rebellious-snake-195 at: http://127.0.0.1:5000/#/experiments/397909761359334731/runs/1a22abccf3de4df5b2231f9194898a4b.\n",
      "2024/08/12 11:51:09 INFO mlflow.tracking._tracking_service.client: 🧪 View experiment at: http://127.0.0.1:5000/#/experiments/397909761359334731.\n"
     ]
    }
   ],
   "source": [
    "# 모델 초기화\n",
    "n_estimator = 77\n",
    "random_state = 2222\n",
    "\n",
    "model = RandomForestClassifier(n_estimators=n_estimator, random_state=random_state)\n",
    "# 모델 학습\n",
    "model.fit(X_train, y_train)\n",
    "# 테스트 데이터에 대한 예측\n",
    "y_pred = model.predict(X_test)\n",
    "# 정확도 계산\n",
    "accuracy = accuracy_score(y_test, y_pred)\n",
    "prf = precision_recall_fscore_support(y_test, y_pred, average='binary')"
   ]
  },
  {
   "attachments": {},
   "cell_type": "markdown",
   "metadata": {},
   "source": [
    "### 3) auto logging + custom logging을 활용한 모델 학습 관리"
   ]
  },
  {
   "cell_type": "code",
   "execution_count": 13,
   "metadata": {},
   "outputs": [
    {
     "name": "stderr",
     "output_type": "stream",
     "text": [
      "2024/08/12 12:00:36 INFO mlflow.utils.autologging_utils: Created MLflow autologging run with ID 'a3ba99312bd3425f9ab7101464b80791', which will track hyperparameters, performance metrics, model artifacts, and lineage information for the current sklearn workflow\n",
      "2024/08/12 12:00:39 INFO mlflow.tracking._tracking_service.client: 🏃 View run unequaled-ant-285 at: http://127.0.0.1:5000/#/experiments/397909761359334731/runs/a3ba99312bd3425f9ab7101464b80791.\n",
      "2024/08/12 12:00:39 INFO mlflow.tracking._tracking_service.client: 🧪 View experiment at: http://127.0.0.1:5000/#/experiments/397909761359334731.\n"
     ]
    }
   ],
   "source": [
    "'''\n",
    "\tTo do\n",
    "\tauto logging에서 수집되지 않는 정보 추가로 logging 하기 \n",
    "\t\tprecision, recall, f1score, accuracy for test data set \n",
    "\n",
    "'''\n",
    "\n",
    "\n",
    "model = RandomForestClassifier(n_estimators=n_estimator, random_state= random_state)\n",
    "model.fit(X_train, y_train)\n",
    "y_pred = model.predict(X_test)\n",
    "accuracy = accuracy_score(y_test,y_pred)\n",
    "prf = precision_recall_fscore_support(y_test, y_pred, average='binary')\n",
    "\n",
    "mlflow.log_param('n_estimator',n_estimator)\n",
    "mlflow.log_metric('accuracy_on_test',accuracy)\n",
    "mlflow.log_metric('precision_on_test', prf[0])\n",
    "mlflow.log_metric('recall_on_test',prf[1])\n",
    "mlflow.log_metric('f1score_on_test', prf[2])"
   ]
  },
  {
   "cell_type": "code",
   "execution_count": 14,
   "metadata": {},
   "outputs": [
    {
     "name": "stderr",
     "output_type": "stream",
     "text": [
      "2024/08/12 12:01:19 INFO mlflow.tracking._tracking_service.client: 🏃 View run abrasive-owl-869 at: http://127.0.0.1:5000/#/experiments/397909761359334731/runs/914a9b642cca4436bc4d981900449512.\n",
      "2024/08/12 12:01:19 INFO mlflow.tracking._tracking_service.client: 🧪 View experiment at: http://127.0.0.1:5000/#/experiments/397909761359334731.\n"
     ]
    }
   ],
   "source": [
    "mlflow.end_run()"
   ]
  },
  {
   "cell_type": "code",
   "execution_count": 15,
   "metadata": {},
   "outputs": [
    {
     "name": "stderr",
     "output_type": "stream",
     "text": [
      "2024/08/12 12:02:45 WARNING mlflow.models.model: Input example should be provided to infer model signature if the model signature is not provided when logging the model.\n",
      "2024/08/12 12:02:45 INFO mlflow.tracking._tracking_service.client: 🏃 View run blushing-fish-443 at: http://127.0.0.1:5000/#/experiments/397909761359334731/runs/385f7b20a0544758bcf8e744dac1159f.\n",
      "2024/08/12 12:02:45 INFO mlflow.tracking._tracking_service.client: 🧪 View experiment at: http://127.0.0.1:5000/#/experiments/397909761359334731.\n"
     ]
    }
   ],
   "source": [
    "\n",
    "with mlflow.start_run():\n",
    "    n_estimator = 80\n",
    "    random_state = 123\n",
    "    max_depth = 6\n",
    "    model = RandomForestClassifier(n_estimators=n_estimator, max_depth = max_depth, random_state= random_state)\n",
    "    model.fit(X_train, y_train)\n",
    "    y_pred = model.predict(X_test)\n",
    "    accuracy = accuracy_score(y_test,y_pred)\n",
    "    prf = precision_recall_fscore_support(y_test, y_pred, average='binary')\n",
    "\n",
    "    mlflow.log_param('n_estimator',n_estimator)\n",
    "    mlflow.log_metric('accuracy_on_test',accuracy)\n",
    "    mlflow.log_metric('precision_on_test', prf[0])\n",
    "    mlflow.log_metric('recall_on_test',prf[1])\n",
    "    mlflow.log_metric('f1score_on_test', prf[2])\n",
    "    mlflow.sklearn.log_model(model, \"model\")"
   ]
  },
  {
   "attachments": {},
   "cell_type": "markdown",
   "metadata": {},
   "source": [
    "### 2. MLflow를 활용한 모델 최적화 Tracking\n",
    "* 직접 parameter 변경해가며 모델 최적화\n",
    "* GridSearch 혹은 RandomSearch를 활용하여 모델 최적화\n"
   ]
  },
  {
   "attachments": {},
   "cell_type": "markdown",
   "metadata": {},
   "source": [
    "##### 1) 직접 parameter 변경해가며 모델 최적화"
   ]
  },
  {
   "cell_type": "code",
   "execution_count": 16,
   "metadata": {},
   "outputs": [],
   "source": [
    "def train_model_with_hyperparameters(n_estimator, max_depth, max_feature):\n",
    "    with mlflow.start_run():\n",
    "        model = RandomForestClassifier(n_estimators=n_estimator, max_depth=max_depth, max_features=max_feature)\n",
    "        model.fit(X_train, y_train)\n",
    "        y_pred = model.predict(X_test)\n",
    "        accuracy = accuracy_score(y_test, y_pred)\n",
    "        prf = precision_recall_fscore_support(y_test, y_pred, average='binary')\n",
    "        mlflow.log_metric(\"precision_on_test\", prf[0])\n",
    "        mlflow.log_metric(\"recall_on_test\", prf[1])\n",
    "        mlflow.log_metric(\"f1score_on_test\", prf[2])\n",
    "        mlflow.log_metric(\"accuracy_on_test\", accuracy)"
   ]
  },
  {
   "cell_type": "code",
   "execution_count": 17,
   "metadata": {},
   "outputs": [
    {
     "name": "stderr",
     "output_type": "stream",
     "text": [
      "2024/08/12 13:24:25 INFO mlflow.tracking._tracking_service.client: 🏃 View run bold-boar-859 at: http://127.0.0.1:5000/#/experiments/397909761359334731/runs/7d968adb3f7440faa9e6b1cfc05d210b.\n",
      "2024/08/12 13:24:25 INFO mlflow.tracking._tracking_service.client: 🧪 View experiment at: http://127.0.0.1:5000/#/experiments/397909761359334731.\n",
      "2024/08/12 13:24:28 INFO mlflow.tracking._tracking_service.client: 🏃 View run skillful-squid-651 at: http://127.0.0.1:5000/#/experiments/397909761359334731/runs/9f386603705740f9b8aa48af378fa38e.\n",
      "2024/08/12 13:24:28 INFO mlflow.tracking._tracking_service.client: 🧪 View experiment at: http://127.0.0.1:5000/#/experiments/397909761359334731.\n",
      "2024/08/12 13:24:30 INFO mlflow.tracking._tracking_service.client: 🏃 View run carefree-kite-990 at: http://127.0.0.1:5000/#/experiments/397909761359334731/runs/7cf0e04b9cd2449e8de6134cdfaebae2.\n",
      "2024/08/12 13:24:30 INFO mlflow.tracking._tracking_service.client: 🧪 View experiment at: http://127.0.0.1:5000/#/experiments/397909761359334731.\n",
      "2024/08/12 13:24:33 INFO mlflow.tracking._tracking_service.client: 🏃 View run dapper-hound-261 at: http://127.0.0.1:5000/#/experiments/397909761359334731/runs/0bf82d6c6fd14b4b8bca27bac3106dc2.\n",
      "2024/08/12 13:24:33 INFO mlflow.tracking._tracking_service.client: 🧪 View experiment at: http://127.0.0.1:5000/#/experiments/397909761359334731.\n",
      "2024/08/12 13:24:36 INFO mlflow.tracking._tracking_service.client: 🏃 View run chill-shrimp-725 at: http://127.0.0.1:5000/#/experiments/397909761359334731/runs/d3e442d8173043a4830385fddb3bb74f.\n",
      "2024/08/12 13:24:36 INFO mlflow.tracking._tracking_service.client: 🧪 View experiment at: http://127.0.0.1:5000/#/experiments/397909761359334731.\n",
      "2024/08/12 13:24:38 INFO mlflow.tracking._tracking_service.client: 🏃 View run likeable-swan-926 at: http://127.0.0.1:5000/#/experiments/397909761359334731/runs/1bebb12d775c4dda8609117aa7c19147.\n",
      "2024/08/12 13:24:38 INFO mlflow.tracking._tracking_service.client: 🧪 View experiment at: http://127.0.0.1:5000/#/experiments/397909761359334731.\n",
      "2024/08/12 13:24:41 INFO mlflow.tracking._tracking_service.client: 🏃 View run unique-mare-598 at: http://127.0.0.1:5000/#/experiments/397909761359334731/runs/a18c7257fea24bc6bae922874678ac1f.\n",
      "2024/08/12 13:24:41 INFO mlflow.tracking._tracking_service.client: 🧪 View experiment at: http://127.0.0.1:5000/#/experiments/397909761359334731.\n",
      "2024/08/12 13:24:44 INFO mlflow.tracking._tracking_service.client: 🏃 View run adorable-ray-221 at: http://127.0.0.1:5000/#/experiments/397909761359334731/runs/cb282aa7b2fa4599911113bc47817ae1.\n",
      "2024/08/12 13:24:44 INFO mlflow.tracking._tracking_service.client: 🧪 View experiment at: http://127.0.0.1:5000/#/experiments/397909761359334731.\n",
      "2024/08/12 13:24:47 INFO mlflow.tracking._tracking_service.client: 🏃 View run omniscient-fawn-532 at: http://127.0.0.1:5000/#/experiments/397909761359334731/runs/0fa85ed7cc7c419c89b48ef3e7c963b3.\n",
      "2024/08/12 13:24:47 INFO mlflow.tracking._tracking_service.client: 🧪 View experiment at: http://127.0.0.1:5000/#/experiments/397909761359334731.\n",
      "2024/08/12 13:24:49 INFO mlflow.tracking._tracking_service.client: 🏃 View run trusting-bat-978 at: http://127.0.0.1:5000/#/experiments/397909761359334731/runs/8974a7a4e4e748c58fb0a64edec7f150.\n",
      "2024/08/12 13:24:49 INFO mlflow.tracking._tracking_service.client: 🧪 View experiment at: http://127.0.0.1:5000/#/experiments/397909761359334731.\n",
      "2024/08/12 13:24:52 INFO mlflow.tracking._tracking_service.client: 🏃 View run resilient-koi-488 at: http://127.0.0.1:5000/#/experiments/397909761359334731/runs/692dfe9008c2465e843905df99b19135.\n",
      "2024/08/12 13:24:52 INFO mlflow.tracking._tracking_service.client: 🧪 View experiment at: http://127.0.0.1:5000/#/experiments/397909761359334731.\n",
      "2024/08/12 13:24:55 INFO mlflow.tracking._tracking_service.client: 🏃 View run upbeat-zebra-537 at: http://127.0.0.1:5000/#/experiments/397909761359334731/runs/799f907bb8124b7db0bd9f3bbadc3cb1.\n",
      "2024/08/12 13:24:55 INFO mlflow.tracking._tracking_service.client: 🧪 View experiment at: http://127.0.0.1:5000/#/experiments/397909761359334731.\n",
      "2024/08/12 13:24:58 INFO mlflow.tracking._tracking_service.client: 🏃 View run peaceful-pug-692 at: http://127.0.0.1:5000/#/experiments/397909761359334731/runs/e9f0e7ed30634a77b834226ddae46e18.\n",
      "2024/08/12 13:24:58 INFO mlflow.tracking._tracking_service.client: 🧪 View experiment at: http://127.0.0.1:5000/#/experiments/397909761359334731.\n",
      "2024/08/12 13:25:00 INFO mlflow.tracking._tracking_service.client: 🏃 View run glamorous-bird-23 at: http://127.0.0.1:5000/#/experiments/397909761359334731/runs/3e4cadba9bf54eff8c74646fd4165490.\n",
      "2024/08/12 13:25:00 INFO mlflow.tracking._tracking_service.client: 🧪 View experiment at: http://127.0.0.1:5000/#/experiments/397909761359334731.\n",
      "2024/08/12 13:25:03 INFO mlflow.tracking._tracking_service.client: 🏃 View run lyrical-dolphin-883 at: http://127.0.0.1:5000/#/experiments/397909761359334731/runs/62a951ad007648aeb9e8829116c73c45.\n",
      "2024/08/12 13:25:03 INFO mlflow.tracking._tracking_service.client: 🧪 View experiment at: http://127.0.0.1:5000/#/experiments/397909761359334731.\n",
      "2024/08/12 13:25:06 INFO mlflow.tracking._tracking_service.client: 🏃 View run burly-eel-111 at: http://127.0.0.1:5000/#/experiments/397909761359334731/runs/2902617322b64edcb5328524b1586c74.\n",
      "2024/08/12 13:25:06 INFO mlflow.tracking._tracking_service.client: 🧪 View experiment at: http://127.0.0.1:5000/#/experiments/397909761359334731.\n",
      "2024/08/12 13:25:09 INFO mlflow.tracking._tracking_service.client: 🏃 View run useful-vole-103 at: http://127.0.0.1:5000/#/experiments/397909761359334731/runs/f54e280d59aa464fba154acaa83965c4.\n",
      "2024/08/12 13:25:09 INFO mlflow.tracking._tracking_service.client: 🧪 View experiment at: http://127.0.0.1:5000/#/experiments/397909761359334731.\n",
      "2024/08/12 13:25:12 INFO mlflow.tracking._tracking_service.client: 🏃 View run languid-sponge-869 at: http://127.0.0.1:5000/#/experiments/397909761359334731/runs/50995081417848ff8f92389f733a1237.\n",
      "2024/08/12 13:25:12 INFO mlflow.tracking._tracking_service.client: 🧪 View experiment at: http://127.0.0.1:5000/#/experiments/397909761359334731.\n",
      "2024/08/12 13:25:14 INFO mlflow.tracking._tracking_service.client: 🏃 View run incongruous-squid-79 at: http://127.0.0.1:5000/#/experiments/397909761359334731/runs/c911950977774202b55aebd80e0dc0f0.\n",
      "2024/08/12 13:25:14 INFO mlflow.tracking._tracking_service.client: 🧪 View experiment at: http://127.0.0.1:5000/#/experiments/397909761359334731.\n",
      "2024/08/12 13:25:17 INFO mlflow.tracking._tracking_service.client: 🏃 View run polite-flea-693 at: http://127.0.0.1:5000/#/experiments/397909761359334731/runs/6b409a0734f140a8b94042c9967a7e2e.\n",
      "2024/08/12 13:25:17 INFO mlflow.tracking._tracking_service.client: 🧪 View experiment at: http://127.0.0.1:5000/#/experiments/397909761359334731.\n",
      "2024/08/12 13:25:20 INFO mlflow.tracking._tracking_service.client: 🏃 View run upset-bass-368 at: http://127.0.0.1:5000/#/experiments/397909761359334731/runs/28bec2e05d974c66867a713c42e25505.\n",
      "2024/08/12 13:25:20 INFO mlflow.tracking._tracking_service.client: 🧪 View experiment at: http://127.0.0.1:5000/#/experiments/397909761359334731.\n",
      "2024/08/12 13:25:23 INFO mlflow.tracking._tracking_service.client: 🏃 View run melodic-hare-511 at: http://127.0.0.1:5000/#/experiments/397909761359334731/runs/d854553618fe4a18bd859e14f75e1ec3.\n",
      "2024/08/12 13:25:23 INFO mlflow.tracking._tracking_service.client: 🧪 View experiment at: http://127.0.0.1:5000/#/experiments/397909761359334731.\n",
      "2024/08/12 13:25:26 INFO mlflow.tracking._tracking_service.client: 🏃 View run abundant-flea-242 at: http://127.0.0.1:5000/#/experiments/397909761359334731/runs/6583bbea05bd4f59b84894d6db110cc5.\n",
      "2024/08/12 13:25:26 INFO mlflow.tracking._tracking_service.client: 🧪 View experiment at: http://127.0.0.1:5000/#/experiments/397909761359334731.\n",
      "2024/08/12 13:25:30 INFO mlflow.tracking._tracking_service.client: 🏃 View run delightful-robin-316 at: http://127.0.0.1:5000/#/experiments/397909761359334731/runs/1d38001f3459424ab873cc97b6b13173.\n",
      "2024/08/12 13:25:30 INFO mlflow.tracking._tracking_service.client: 🧪 View experiment at: http://127.0.0.1:5000/#/experiments/397909761359334731.\n",
      "2024/08/12 13:25:33 INFO mlflow.tracking._tracking_service.client: 🏃 View run smiling-croc-280 at: http://127.0.0.1:5000/#/experiments/397909761359334731/runs/aee6e41c95d64e8eb9fa60a9f8bf58f5.\n",
      "2024/08/12 13:25:33 INFO mlflow.tracking._tracking_service.client: 🧪 View experiment at: http://127.0.0.1:5000/#/experiments/397909761359334731.\n",
      "2024/08/12 13:25:36 INFO mlflow.tracking._tracking_service.client: 🏃 View run exultant-dog-30 at: http://127.0.0.1:5000/#/experiments/397909761359334731/runs/8d40759087ed478db1a192b7f519b8aa.\n",
      "2024/08/12 13:25:36 INFO mlflow.tracking._tracking_service.client: 🧪 View experiment at: http://127.0.0.1:5000/#/experiments/397909761359334731.\n",
      "2024/08/12 13:25:39 INFO mlflow.tracking._tracking_service.client: 🏃 View run burly-shrew-133 at: http://127.0.0.1:5000/#/experiments/397909761359334731/runs/374f97a707d54783b777deedb8b42ade.\n",
      "2024/08/12 13:25:39 INFO mlflow.tracking._tracking_service.client: 🧪 View experiment at: http://127.0.0.1:5000/#/experiments/397909761359334731.\n",
      "2024/08/12 13:25:42 INFO mlflow.tracking._tracking_service.client: 🏃 View run secretive-owl-47 at: http://127.0.0.1:5000/#/experiments/397909761359334731/runs/419902c7d5bc41d0938c9ee6974d1de9.\n",
      "2024/08/12 13:25:42 INFO mlflow.tracking._tracking_service.client: 🧪 View experiment at: http://127.0.0.1:5000/#/experiments/397909761359334731.\n",
      "2024/08/12 13:25:45 INFO mlflow.tracking._tracking_service.client: 🏃 View run victorious-lamb-476 at: http://127.0.0.1:5000/#/experiments/397909761359334731/runs/c0512474b07d4e929b22b30cba231521.\n",
      "2024/08/12 13:25:45 INFO mlflow.tracking._tracking_service.client: 🧪 View experiment at: http://127.0.0.1:5000/#/experiments/397909761359334731.\n",
      "2024/08/12 13:25:48 INFO mlflow.tracking._tracking_service.client: 🏃 View run awesome-dolphin-813 at: http://127.0.0.1:5000/#/experiments/397909761359334731/runs/7f65aa8d205043f1be50abbef3278178.\n",
      "2024/08/12 13:25:48 INFO mlflow.tracking._tracking_service.client: 🧪 View experiment at: http://127.0.0.1:5000/#/experiments/397909761359334731.\n",
      "2024/08/12 13:25:51 INFO mlflow.tracking._tracking_service.client: 🏃 View run unequaled-trout-876 at: http://127.0.0.1:5000/#/experiments/397909761359334731/runs/8c1aa045e8e1474aae41910cfda4edb5.\n",
      "2024/08/12 13:25:51 INFO mlflow.tracking._tracking_service.client: 🧪 View experiment at: http://127.0.0.1:5000/#/experiments/397909761359334731.\n",
      "2024/08/12 13:25:54 INFO mlflow.tracking._tracking_service.client: 🏃 View run rumbling-shark-966 at: http://127.0.0.1:5000/#/experiments/397909761359334731/runs/66114d47cddc47dc992c1d37f49b59b8.\n",
      "2024/08/12 13:25:54 INFO mlflow.tracking._tracking_service.client: 🧪 View experiment at: http://127.0.0.1:5000/#/experiments/397909761359334731.\n",
      "2024/08/12 13:25:57 INFO mlflow.tracking._tracking_service.client: 🏃 View run vaunted-roo-412 at: http://127.0.0.1:5000/#/experiments/397909761359334731/runs/0a391f5902e04fb48b1cd5482e7b8c5e.\n",
      "2024/08/12 13:25:57 INFO mlflow.tracking._tracking_service.client: 🧪 View experiment at: http://127.0.0.1:5000/#/experiments/397909761359334731.\n",
      "2024/08/12 13:26:01 INFO mlflow.tracking._tracking_service.client: 🏃 View run mercurial-sloth-986 at: http://127.0.0.1:5000/#/experiments/397909761359334731/runs/fc9a3a9b8ba14b53b1bec429f38b7cf1.\n",
      "2024/08/12 13:26:01 INFO mlflow.tracking._tracking_service.client: 🧪 View experiment at: http://127.0.0.1:5000/#/experiments/397909761359334731.\n",
      "2024/08/12 13:26:04 INFO mlflow.tracking._tracking_service.client: 🏃 View run delicate-stork-64 at: http://127.0.0.1:5000/#/experiments/397909761359334731/runs/9154c6e93aed465da1723de67fb81b49.\n",
      "2024/08/12 13:26:04 INFO mlflow.tracking._tracking_service.client: 🧪 View experiment at: http://127.0.0.1:5000/#/experiments/397909761359334731.\n",
      "2024/08/12 13:26:07 INFO mlflow.tracking._tracking_service.client: 🏃 View run flawless-crane-895 at: http://127.0.0.1:5000/#/experiments/397909761359334731/runs/d73bce666fbf4d0b9e8fd5fbae4bb1e4.\n",
      "2024/08/12 13:26:07 INFO mlflow.tracking._tracking_service.client: 🧪 View experiment at: http://127.0.0.1:5000/#/experiments/397909761359334731.\n",
      "2024/08/12 13:26:10 INFO mlflow.tracking._tracking_service.client: 🏃 View run dashing-frog-331 at: http://127.0.0.1:5000/#/experiments/397909761359334731/runs/d20d8092affe410899315dc9bdf3ec1f.\n",
      "2024/08/12 13:26:10 INFO mlflow.tracking._tracking_service.client: 🧪 View experiment at: http://127.0.0.1:5000/#/experiments/397909761359334731.\n",
      "2024/08/12 13:26:13 INFO mlflow.tracking._tracking_service.client: 🏃 View run zealous-perch-272 at: http://127.0.0.1:5000/#/experiments/397909761359334731/runs/0111a263e1d5422a9d8d719b33f58968.\n",
      "2024/08/12 13:26:13 INFO mlflow.tracking._tracking_service.client: 🧪 View experiment at: http://127.0.0.1:5000/#/experiments/397909761359334731.\n",
      "2024/08/12 13:26:16 INFO mlflow.tracking._tracking_service.client: 🏃 View run popular-owl-220 at: http://127.0.0.1:5000/#/experiments/397909761359334731/runs/2d0172a03a6f4ecda1119cc9ddc08396.\n",
      "2024/08/12 13:26:16 INFO mlflow.tracking._tracking_service.client: 🧪 View experiment at: http://127.0.0.1:5000/#/experiments/397909761359334731.\n",
      "2024/08/12 13:26:19 INFO mlflow.tracking._tracking_service.client: 🏃 View run crawling-gnu-787 at: http://127.0.0.1:5000/#/experiments/397909761359334731/runs/1eab6eb15bd74b159b3212086a1362c5.\n",
      "2024/08/12 13:26:19 INFO mlflow.tracking._tracking_service.client: 🧪 View experiment at: http://127.0.0.1:5000/#/experiments/397909761359334731.\n",
      "2024/08/12 13:26:22 INFO mlflow.tracking._tracking_service.client: 🏃 View run likeable-wren-791 at: http://127.0.0.1:5000/#/experiments/397909761359334731/runs/9fc727b93c3b42abba2f26c9a210503f.\n",
      "2024/08/12 13:26:22 INFO mlflow.tracking._tracking_service.client: 🧪 View experiment at: http://127.0.0.1:5000/#/experiments/397909761359334731.\n",
      "2024/08/12 13:26:25 INFO mlflow.tracking._tracking_service.client: 🏃 View run grandiose-jay-609 at: http://127.0.0.1:5000/#/experiments/397909761359334731/runs/265abe869aa342fe966273038beab766.\n",
      "2024/08/12 13:26:25 INFO mlflow.tracking._tracking_service.client: 🧪 View experiment at: http://127.0.0.1:5000/#/experiments/397909761359334731.\n",
      "2024/08/12 13:26:28 INFO mlflow.tracking._tracking_service.client: 🏃 View run abundant-frog-845 at: http://127.0.0.1:5000/#/experiments/397909761359334731/runs/7b17975adcc8460796ad47dd60a43766.\n",
      "2024/08/12 13:26:28 INFO mlflow.tracking._tracking_service.client: 🧪 View experiment at: http://127.0.0.1:5000/#/experiments/397909761359334731.\n",
      "2024/08/12 13:26:31 INFO mlflow.tracking._tracking_service.client: 🏃 View run welcoming-ram-53 at: http://127.0.0.1:5000/#/experiments/397909761359334731/runs/8c6b7a958b72421aae624fc88495f545.\n",
      "2024/08/12 13:26:31 INFO mlflow.tracking._tracking_service.client: 🧪 View experiment at: http://127.0.0.1:5000/#/experiments/397909761359334731.\n",
      "2024/08/12 13:26:34 INFO mlflow.tracking._tracking_service.client: 🏃 View run valuable-mink-683 at: http://127.0.0.1:5000/#/experiments/397909761359334731/runs/2cd4526ca76e4376ae83973b16a89099.\n",
      "2024/08/12 13:26:34 INFO mlflow.tracking._tracking_service.client: 🧪 View experiment at: http://127.0.0.1:5000/#/experiments/397909761359334731.\n",
      "2024/08/12 13:26:37 INFO mlflow.tracking._tracking_service.client: 🏃 View run efficient-toad-254 at: http://127.0.0.1:5000/#/experiments/397909761359334731/runs/c6ac1a3221514337b5176d028a483671.\n",
      "2024/08/12 13:26:37 INFO mlflow.tracking._tracking_service.client: 🧪 View experiment at: http://127.0.0.1:5000/#/experiments/397909761359334731.\n",
      "2024/08/12 13:26:40 INFO mlflow.tracking._tracking_service.client: 🏃 View run calm-jay-658 at: http://127.0.0.1:5000/#/experiments/397909761359334731/runs/7b505126e43f42399909474d117bb840.\n",
      "2024/08/12 13:26:40 INFO mlflow.tracking._tracking_service.client: 🧪 View experiment at: http://127.0.0.1:5000/#/experiments/397909761359334731.\n",
      "2024/08/12 13:26:43 INFO mlflow.tracking._tracking_service.client: 🏃 View run capricious-moth-711 at: http://127.0.0.1:5000/#/experiments/397909761359334731/runs/6c4d44476db947fea779e6f47213fbb7.\n",
      "2024/08/12 13:26:43 INFO mlflow.tracking._tracking_service.client: 🧪 View experiment at: http://127.0.0.1:5000/#/experiments/397909761359334731.\n"
     ]
    }
   ],
   "source": [
    "n_estimators = [50, 100, 150, 200]\n",
    "max_depths = [2, 5, 10]\n",
    "max_features = [5, 8, 10, 13]\n",
    "\n",
    "'''\n",
    "    To do\n",
    "    run model with hyper-parameter combination \n",
    "'''\n",
    "\n",
    "for n_estimator in n_estimators:\n",
    "    for max_depth in max_depths:\n",
    "        for max_feature in max_features:\n",
    "            train_model_with_hyperparameters(n_estimator, max_depth, max_feature)"
   ]
  },
  {
   "attachments": {},
   "cell_type": "markdown",
   "metadata": {},
   "source": [
    "##### 2) GridSearch 혹은 RandomSearch를 활용하여 모델 최적화\n"
   ]
  },
  {
   "cell_type": "code",
   "execution_count": 19,
   "metadata": {},
   "outputs": [
    {
     "name": "stderr",
     "output_type": "stream",
     "text": [
      "2024/08/12 13:38:49 INFO mlflow.sklearn.utils: Logging the 5 best runs, 43 runs will be omitted.\n",
      "2024/08/12 13:38:49 INFO mlflow.tracking._tracking_service.client: 🏃 View run rogue-perch-957 at: http://127.0.0.1:5000/#/experiments/397909761359334731/runs/dbd3d7b6f47b4d8fa9401ba6bc18d444.\n",
      "2024/08/12 13:38:49 INFO mlflow.tracking._tracking_service.client: 🧪 View experiment at: http://127.0.0.1:5000/#/experiments/397909761359334731.\n",
      "2024/08/12 13:38:49 INFO mlflow.tracking._tracking_service.client: 🏃 View run rogue-sloth-840 at: http://127.0.0.1:5000/#/experiments/397909761359334731/runs/24e868d5000d4580a54eafce0477b8d3.\n",
      "2024/08/12 13:38:49 INFO mlflow.tracking._tracking_service.client: 🧪 View experiment at: http://127.0.0.1:5000/#/experiments/397909761359334731.\n",
      "2024/08/12 13:38:49 INFO mlflow.tracking._tracking_service.client: 🏃 View run thoughtful-ram-948 at: http://127.0.0.1:5000/#/experiments/397909761359334731/runs/e59e3d97eda546d2957ef6a20ff310d2.\n",
      "2024/08/12 13:38:49 INFO mlflow.tracking._tracking_service.client: 🧪 View experiment at: http://127.0.0.1:5000/#/experiments/397909761359334731.\n",
      "2024/08/12 13:38:49 INFO mlflow.tracking._tracking_service.client: 🏃 View run unleashed-fish-830 at: http://127.0.0.1:5000/#/experiments/397909761359334731/runs/08085763c4234c54924d62ca270d7600.\n",
      "2024/08/12 13:38:49 INFO mlflow.tracking._tracking_service.client: 🧪 View experiment at: http://127.0.0.1:5000/#/experiments/397909761359334731.\n",
      "2024/08/12 13:38:49 INFO mlflow.tracking._tracking_service.client: 🏃 View run indecisive-fly-149 at: http://127.0.0.1:5000/#/experiments/397909761359334731/runs/016cea89be844f6d8b45becc17eba0a0.\n",
      "2024/08/12 13:38:49 INFO mlflow.tracking._tracking_service.client: 🧪 View experiment at: http://127.0.0.1:5000/#/experiments/397909761359334731.\n"
     ]
    }
   ],
   "source": [
    "from sklearn.model_selection import GridSearchCV\n",
    "\n",
    "'''\n",
    "\tTo do\n",
    "\trun GridSearchCV with mlflow \n",
    "'''\n",
    "\n",
    "with mlflow.start_run():\n",
    "\tmodel_grid = GridSearchCV(RandomForestClassifier(), \n",
    "                              {\n",
    "                                  \"n_estimators\":n_estimators,\n",
    "                                  \"max_depth\":max_depths,\n",
    "                               \t  \"max_features\":max_features\n",
    "\t\t\t\t\t\t\t   }\n",
    "                            )\n",
    "\tmodel_grid.fit(X_train, y_train)\n",
    "\ty_pred = model_grid.predict(X_test)\n",
    "\taccuracy = accuracy_score(y_test, y_pred)\n",
    "\tprf = precision_recall_fscore_support(y_test, y_pred, average='binary')\n",
    "\tmlflow.log_metric(\"precision_on_test\", prf[0])\n",
    "\tmlflow.log_metric(\"recall_on_test\", prf[1])\n",
    "\tmlflow.log_metric(\"f1score_on_test\", prf[2])\n",
    "\tmlflow.log_metric(\"accuracy_on_test\", accuracy)\n"
   ]
  },
  {
   "cell_type": "code",
   "execution_count": null,
   "metadata": {},
   "outputs": [],
   "source": []
  }
 ],
 "metadata": {
  "kernelspec": {
   "display_name": "mlops_prod",
   "language": "python",
   "name": "mlops_prod"
  },
  "language_info": {
   "codemirror_mode": {
    "name": "ipython",
    "version": 3
   },
   "file_extension": ".py",
   "mimetype": "text/x-python",
   "name": "python",
   "nbconvert_exporter": "python",
   "pygments_lexer": "ipython3",
   "version": "3.10.6"
  },
  "orig_nbformat": 4
 },
 "nbformat": 4,
 "nbformat_minor": 2
}
