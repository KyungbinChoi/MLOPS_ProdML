{
 "cells": [
  {
   "cell_type": "code",
   "execution_count": 1,
   "metadata": {},
   "outputs": [
    {
     "name": "stderr",
     "output_type": "stream",
     "text": [
      "2024/08/12 10:06:18 INFO mlflow.utils.autologging_utils: Created MLflow autologging run with ID '0a2cd618e2ea458ba6ed22f6ace0b461', which will track hyperparameters, performance metrics, model artifacts, and lineage information for the current sklearn workflow\n",
      "2024/08/12 10:06:18 WARNING mlflow.utils.autologging_utils: Encountered unexpected error during sklearn autologging: The configured tracking uri scheme: 'file' is invalid for use with the proxy mlflow-artifact scheme. The allowed tracking schemes are: {'http', 'https'}\n"
     ]
    }
   ],
   "source": [
    "import mlflow\n",
    "from sklearn.datasets import load_diabetes\n",
    "from sklearn.model_selection import train_test_split\n",
    "from sklearn.ensemble import RandomForestRegressor\n",
    "\n",
    "\n",
    "mlflow.sklearn.autolog()\n",
    "\n",
    "data_diabetes = load_diabetes()\n",
    "X_train, X_test, y_train, y_test = train_test_split(data_diabetes.data, data_diabetes.target)\n",
    "\n",
    "reg = RandomForestRegressor(n_estimators=50, max_depth=10, max_features=5)\n",
    "reg.fit(X_train, y_train)\n",
    "prediction = reg.predict(X_test)"
   ]
  },
  {
   "cell_type": "code",
   "execution_count": 8,
   "metadata": {},
   "outputs": [
    {
     "data": {
      "text/plain": [
       "array([189.43878195,  95.68972358, 111.07854637, 120.24571062,\n",
       "       118.38804762, 127.55679501, 215.20238346, 207.15035821,\n",
       "       225.9889697 , 161.21699595, 102.67923599, 125.26891421,\n",
       "       247.43792082,  78.36108632, 204.82187463, 234.39726496,\n",
       "        97.32843787, 115.84744262, 191.73158874, 182.01115536,\n",
       "       165.29460393, 231.78      , 161.25701508,  89.62964621,\n",
       "       102.81671717,  89.14462695, 121.64292274,  89.57641504,\n",
       "       256.85383095, 131.31493137, 157.76019768, 210.8280054 ,\n",
       "       146.04965666, 115.12130345,  77.58877071, 102.87300566,\n",
       "       115.90777193, 210.89936757,  72.59665677, 119.82084795,\n",
       "       151.00833333, 258.10413727, 135.29492147, 160.82593514,\n",
       "       171.95053636, 113.25845779, 137.90918895, 185.55274361,\n",
       "       161.15517817, 146.78164755,  99.17684723, 139.97827273,\n",
       "        97.01833559, 225.42367957, 253.85933333, 110.53304117,\n",
       "       141.03504762, 104.85890374,  98.04571429, 230.25701227,\n",
       "       109.30208333, 211.02359148, 131.91135621, 194.55633383,\n",
       "        99.22639025, 151.21434211, 153.84821845,  94.49375568,\n",
       "        96.98238384,  84.04347285, 112.67358113, 200.9116299 ,\n",
       "       147.46487493, 104.97411081, 194.17116217,  99.63089314,\n",
       "       187.92761905, 239.4599057 , 164.0713686 , 115.49748352,\n",
       "        66.00527379,  95.49916662,  73.98184125, 252.24854945,\n",
       "        78.34582041, 186.90626057, 256.43230769, 187.14600355,\n",
       "       227.31607937, 232.26831414,  81.12423117, 237.12267618,\n",
       "        95.10639216,  85.89921825,  87.72685115, 243.9819883 ,\n",
       "       179.82735877, 179.88278195, 196.72305423, 113.95985714,\n",
       "        91.39844322, 178.8180996 , 232.86907207, 147.19837778,\n",
       "       227.68414301, 157.82485498, 132.46519048, 151.22022624,\n",
       "       177.83487179, 209.06635628, 112.57724957])"
      ]
     },
     "execution_count": 8,
     "metadata": {},
     "output_type": "execute_result"
    }
   ],
   "source": [
    "prediction"
   ]
  },
  {
   "cell_type": "code",
   "execution_count": null,
   "metadata": {},
   "outputs": [],
   "source": []
  }
 ],
 "metadata": {
  "kernelspec": {
   "display_name": "mlops_prod",
   "language": "python",
   "name": "mlops_prod"
  },
  "language_info": {
   "codemirror_mode": {
    "name": "ipython",
    "version": 3
   },
   "file_extension": ".py",
   "mimetype": "text/x-python",
   "name": "python",
   "nbconvert_exporter": "python",
   "pygments_lexer": "ipython3",
   "version": "3.10.6"
  },
  "orig_nbformat": 4
 },
 "nbformat": 4,
 "nbformat_minor": 2
}
